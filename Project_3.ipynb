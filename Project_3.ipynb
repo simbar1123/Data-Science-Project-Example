{
  "nbformat": 4,
  "nbformat_minor": 0,
  "metadata": {
    "colab": {
      "name": "Project 3",
      "provenance": [],
      "authorship_tag": "ABX9TyOVJrWIx0y7cXxqG1AMq3c7",
      "include_colab_link": true
    },
    "kernelspec": {
      "name": "python3",
      "display_name": "Python 3"
    },
    "language_info": {
      "name": "python"
    }
  },
  "cells": [
    {
      "cell_type": "markdown",
      "metadata": {
        "id": "view-in-github",
        "colab_type": "text"
      },
      "source": [
        "<a href=\"https://colab.research.google.com/github/simbar1123/Data-Science-Project-Example/blob/main/Project_3.ipynb\" target=\"_parent\"><img src=\"https://colab.research.google.com/assets/colab-badge.svg\" alt=\"Open In Colab\"/></a>"
      ]
    },
    {
      "cell_type": "markdown",
      "metadata": {
        "id": "tx9CU8bgLBev"
      },
      "source": [
        "**Project 3** "
      ]
    },
    {
      "cell_type": "markdown",
      "metadata": {
        "id": "LDssNLBTLGyO"
      },
      "source": [
        "Lets acquire our data and then load all the varying libraries/functions we may want:"
      ]
    },
    {
      "cell_type": "code",
      "metadata": {
        "id": "ke6wqmlwMQMR"
      },
      "source": [
        "import numpy as np\n",
        "import warnings\n",
        "warnings.simplefilter(action='ignore', category=FutureWarning)\n",
        "import numpy as np # linear algebra\n",
        "import pandas as pd # data processing, CSV file I/O (e.g. pd.read_csv)\n",
        "import matplotlib.pyplot as plt # this is used for the plot the graph \n",
        "import os\n",
        "import seaborn as sns # used for plot interactive graph.\n",
        "from sklearn.model_selection import train_test_split, cross_val_score, GridSearchCV\n",
        "from sklearn import metrics\n",
        "from sklearn.svm import SVC  \n",
        "from sklearn.linear_model import LogisticRegression\n",
        "from sklearn.neighbors import KNeighborsClassifier\n",
        "from sklearn.tree import DecisionTreeClassifier\n",
        "from sklearn.cluster import KMeans\n",
        "from sklearn.metrics import confusion_matrix\n",
        "import sklearn.metrics.cluster as smc\n",
        "from sklearn.model_selection import KFold\n",
        "\n",
        "\n",
        "from matplotlib import pyplot\n",
        "import itertools\n",
        "\n",
        "%matplotlib inline\n",
        "\n",
        "import random "
      ],
      "execution_count": null,
      "outputs": []
    },
    {
      "cell_type": "code",
      "metadata": {
        "id": "n3KsGqXF3wnK"
      },
      "source": [
        "# Helper function that allows you to draw nicely formatted confusion matrices\n",
        "def draw_confusion_matrix(y, yhat, classes):\n",
        "    '''\n",
        "        Draws a confusion matrix for the given target and predictions\n",
        "        Adapted from scikit-learn and discussion example.\n",
        "    '''\n",
        "    plt.cla()\n",
        "    plt.clf()\n",
        "    matrix = confusion_matrix(y, yhat)\n",
        "    plt.imshow(matrix, interpolation='nearest', cmap=plt.cm.Blues)\n",
        "    plt.title(\"Confusion Matrix\")\n",
        "    plt.colorbar()\n",
        "    num_classes = len(classes)\n",
        "    plt.xticks(np.arange(num_classes), classes, rotation=90)\n",
        "    plt.yticks(np.arange(num_classes), classes)\n",
        "    \n",
        "    fmt = 'd'\n",
        "    thresh = matrix.max() / 2.\n",
        "    for i, j in itertools.product(range(matrix.shape[0]), range(matrix.shape[1])):\n",
        "        plt.text(j, i, format(matrix[i, j], fmt),\n",
        "                 horizontalalignment=\"center\",\n",
        "                 color=\"white\" if matrix[i, j] > thresh else \"black\")\n",
        "\n",
        "    plt.ylabel('True label')\n",
        "    plt.xlabel('Predicted label')\n",
        "    plt.tight_layout()\n",
        "    plt.show()"
      ],
      "execution_count": null,
      "outputs": []
    },
    {
      "cell_type": "code",
      "metadata": {
        "colab": {
          "base_uri": "https://localhost:8080/"
        },
        "id": "7zjnwCV-LIVz",
        "outputId": "bc6f0713-9296-4b82-fa81-621226365d5c"
      },
      "source": [
        "from google.colab import drive\n",
        "drive.mount('/content/drive')\n",
        "\n",
        "sdata = pd.read_csv(\"/content/drive/My Drive/dataset-stroke.csv\")"
      ],
      "execution_count": null,
      "outputs": [
        {
          "output_type": "stream",
          "text": [
            "Mounted at /content/drive\n"
          ],
          "name": "stdout"
        }
      ]
    },
    {
      "cell_type": "markdown",
      "metadata": {
        "id": "CBkFQ-2HMWZu"
      },
      "source": [
        "Let's take a super quick look at our data just to see what he have going on"
      ]
    },
    {
      "cell_type": "code",
      "metadata": {
        "colab": {
          "base_uri": "https://localhost:8080/",
          "height": 259
        },
        "id": "SaLyyIGlMadQ",
        "outputId": "9a914f1b-b10d-4f6b-ab43-1865e6e7f682"
      },
      "source": [
        "sdata.head()"
      ],
      "execution_count": null,
      "outputs": [
        {
          "output_type": "execute_result",
          "data": {
            "text/html": [
              "<div>\n",
              "<style scoped>\n",
              "    .dataframe tbody tr th:only-of-type {\n",
              "        vertical-align: middle;\n",
              "    }\n",
              "\n",
              "    .dataframe tbody tr th {\n",
              "        vertical-align: top;\n",
              "    }\n",
              "\n",
              "    .dataframe thead th {\n",
              "        text-align: right;\n",
              "    }\n",
              "</style>\n",
              "<table border=\"1\" class=\"dataframe\">\n",
              "  <thead>\n",
              "    <tr style=\"text-align: right;\">\n",
              "      <th></th>\n",
              "      <th>Unnamed: 0</th>\n",
              "      <th>id</th>\n",
              "      <th>gender</th>\n",
              "      <th>age</th>\n",
              "      <th>hypertension</th>\n",
              "      <th>heart_disease</th>\n",
              "      <th>ever_married</th>\n",
              "      <th>work_type</th>\n",
              "      <th>Residence_type</th>\n",
              "      <th>avg_glucose_level</th>\n",
              "      <th>bmi</th>\n",
              "      <th>smoking_status</th>\n",
              "      <th>stroke</th>\n",
              "    </tr>\n",
              "  </thead>\n",
              "  <tbody>\n",
              "    <tr>\n",
              "      <th>0</th>\n",
              "      <td>2764</td>\n",
              "      <td>20292</td>\n",
              "      <td>Female</td>\n",
              "      <td>24.0</td>\n",
              "      <td>0</td>\n",
              "      <td>0</td>\n",
              "      <td>Yes</td>\n",
              "      <td>Private</td>\n",
              "      <td>Urban</td>\n",
              "      <td>85.55</td>\n",
              "      <td>63.3</td>\n",
              "      <td>never smoked</td>\n",
              "      <td>0</td>\n",
              "    </tr>\n",
              "    <tr>\n",
              "      <th>1</th>\n",
              "      <td>98</td>\n",
              "      <td>8154</td>\n",
              "      <td>Male</td>\n",
              "      <td>57.0</td>\n",
              "      <td>1</td>\n",
              "      <td>0</td>\n",
              "      <td>Yes</td>\n",
              "      <td>Govt_job</td>\n",
              "      <td>Urban</td>\n",
              "      <td>78.92</td>\n",
              "      <td>27.7</td>\n",
              "      <td>formerly smoked</td>\n",
              "      <td>1</td>\n",
              "    </tr>\n",
              "    <tr>\n",
              "      <th>2</th>\n",
              "      <td>3735</td>\n",
              "      <td>27176</td>\n",
              "      <td>Female</td>\n",
              "      <td>69.0</td>\n",
              "      <td>0</td>\n",
              "      <td>0</td>\n",
              "      <td>Yes</td>\n",
              "      <td>Private</td>\n",
              "      <td>Rural</td>\n",
              "      <td>103.73</td>\n",
              "      <td>34.7</td>\n",
              "      <td>never smoked</td>\n",
              "      <td>0</td>\n",
              "    </tr>\n",
              "    <tr>\n",
              "      <th>3</th>\n",
              "      <td>4500</td>\n",
              "      <td>13598</td>\n",
              "      <td>Male</td>\n",
              "      <td>60.0</td>\n",
              "      <td>0</td>\n",
              "      <td>0</td>\n",
              "      <td>Yes</td>\n",
              "      <td>Self-employed</td>\n",
              "      <td>Urban</td>\n",
              "      <td>227.23</td>\n",
              "      <td>40.0</td>\n",
              "      <td>formerly smoked</td>\n",
              "      <td>0</td>\n",
              "    </tr>\n",
              "    <tr>\n",
              "      <th>4</th>\n",
              "      <td>3254</td>\n",
              "      <td>27034</td>\n",
              "      <td>Female</td>\n",
              "      <td>65.0</td>\n",
              "      <td>0</td>\n",
              "      <td>0</td>\n",
              "      <td>Yes</td>\n",
              "      <td>Govt_job</td>\n",
              "      <td>Urban</td>\n",
              "      <td>82.72</td>\n",
              "      <td>29.8</td>\n",
              "      <td>smokes</td>\n",
              "      <td>0</td>\n",
              "    </tr>\n",
              "  </tbody>\n",
              "</table>\n",
              "</div>"
            ],
            "text/plain": [
              "   Unnamed: 0     id  gender  ...   bmi   smoking_status  stroke\n",
              "0        2764  20292  Female  ...  63.3     never smoked       0\n",
              "1          98   8154    Male  ...  27.7  formerly smoked       1\n",
              "2        3735  27176  Female  ...  34.7     never smoked       0\n",
              "3        4500  13598    Male  ...  40.0  formerly smoked       0\n",
              "4        3254  27034  Female  ...  29.8           smokes       0\n",
              "\n",
              "[5 rows x 13 columns]"
            ]
          },
          "metadata": {
            "tags": []
          },
          "execution_count": 6
        }
      ]
    },
    {
      "cell_type": "code",
      "metadata": {
        "colab": {
          "base_uri": "https://localhost:8080/"
        },
        "id": "ds167ORvMh9Q",
        "outputId": "f4813579-3ca8-457b-d76b-3058143794c2"
      },
      "source": [
        "sdata.info()"
      ],
      "execution_count": null,
      "outputs": [
        {
          "output_type": "stream",
          "text": [
            "<class 'pandas.core.frame.DataFrame'>\n",
            "RangeIndex: 2310 entries, 0 to 2309\n",
            "Data columns (total 13 columns):\n",
            " #   Column             Non-Null Count  Dtype  \n",
            "---  ------             --------------  -----  \n",
            " 0   Unnamed: 0         2310 non-null   int64  \n",
            " 1   id                 2310 non-null   int64  \n",
            " 2   gender             2310 non-null   object \n",
            " 3   age                2310 non-null   float64\n",
            " 4   hypertension       2310 non-null   int64  \n",
            " 5   heart_disease      2310 non-null   int64  \n",
            " 6   ever_married       2310 non-null   object \n",
            " 7   work_type          2310 non-null   object \n",
            " 8   Residence_type     2310 non-null   object \n",
            " 9   avg_glucose_level  2310 non-null   float64\n",
            " 10  bmi                2215 non-null   float64\n",
            " 11  smoking_status     2310 non-null   object \n",
            " 12  stroke             2310 non-null   int64  \n",
            "dtypes: float64(3), int64(5), object(5)\n",
            "memory usage: 234.7+ KB\n"
          ],
          "name": "stdout"
        }
      ]
    },
    {
      "cell_type": "code",
      "metadata": {
        "colab": {
          "base_uri": "https://localhost:8080/",
          "height": 298
        },
        "id": "OiyztSljMpHT",
        "outputId": "290aa8b3-4bc7-4f4e-fd72-79e2efb44aca"
      },
      "source": [
        "sdata.describe()"
      ],
      "execution_count": null,
      "outputs": [
        {
          "output_type": "execute_result",
          "data": {
            "text/html": [
              "<div>\n",
              "<style scoped>\n",
              "    .dataframe tbody tr th:only-of-type {\n",
              "        vertical-align: middle;\n",
              "    }\n",
              "\n",
              "    .dataframe tbody tr th {\n",
              "        vertical-align: top;\n",
              "    }\n",
              "\n",
              "    .dataframe thead th {\n",
              "        text-align: right;\n",
              "    }\n",
              "</style>\n",
              "<table border=\"1\" class=\"dataframe\">\n",
              "  <thead>\n",
              "    <tr style=\"text-align: right;\">\n",
              "      <th></th>\n",
              "      <th>Unnamed: 0</th>\n",
              "      <th>id</th>\n",
              "      <th>age</th>\n",
              "      <th>hypertension</th>\n",
              "      <th>heart_disease</th>\n",
              "      <th>avg_glucose_level</th>\n",
              "      <th>bmi</th>\n",
              "      <th>stroke</th>\n",
              "    </tr>\n",
              "  </thead>\n",
              "  <tbody>\n",
              "    <tr>\n",
              "      <th>count</th>\n",
              "      <td>2310.000000</td>\n",
              "      <td>2310.000000</td>\n",
              "      <td>2310.000000</td>\n",
              "      <td>2310.000000</td>\n",
              "      <td>2310.000000</td>\n",
              "      <td>2310.000000</td>\n",
              "      <td>2215.000000</td>\n",
              "      <td>2310.000000</td>\n",
              "    </tr>\n",
              "    <tr>\n",
              "      <th>mean</th>\n",
              "      <td>2530.838095</td>\n",
              "      <td>35961.380519</td>\n",
              "      <td>43.202043</td>\n",
              "      <td>0.096537</td>\n",
              "      <td>0.054545</td>\n",
              "      <td>105.747004</td>\n",
              "      <td>28.805418</td>\n",
              "      <td>0.052814</td>\n",
              "    </tr>\n",
              "    <tr>\n",
              "      <th>std</th>\n",
              "      <td>1483.865940</td>\n",
              "      <td>21191.909528</td>\n",
              "      <td>22.784886</td>\n",
              "      <td>0.295390</td>\n",
              "      <td>0.227140</td>\n",
              "      <td>44.984524</td>\n",
              "      <td>7.800871</td>\n",
              "      <td>0.223710</td>\n",
              "    </tr>\n",
              "    <tr>\n",
              "      <th>min</th>\n",
              "      <td>0.000000</td>\n",
              "      <td>77.000000</td>\n",
              "      <td>0.080000</td>\n",
              "      <td>0.000000</td>\n",
              "      <td>0.000000</td>\n",
              "      <td>55.120000</td>\n",
              "      <td>10.300000</td>\n",
              "      <td>0.000000</td>\n",
              "    </tr>\n",
              "    <tr>\n",
              "      <th>25%</th>\n",
              "      <td>1217.250000</td>\n",
              "      <td>17007.750000</td>\n",
              "      <td>25.250000</td>\n",
              "      <td>0.000000</td>\n",
              "      <td>0.000000</td>\n",
              "      <td>77.007500</td>\n",
              "      <td>23.600000</td>\n",
              "      <td>0.000000</td>\n",
              "    </tr>\n",
              "    <tr>\n",
              "      <th>50%</th>\n",
              "      <td>2573.500000</td>\n",
              "      <td>36047.000000</td>\n",
              "      <td>44.000000</td>\n",
              "      <td>0.000000</td>\n",
              "      <td>0.000000</td>\n",
              "      <td>91.850000</td>\n",
              "      <td>28.100000</td>\n",
              "      <td>0.000000</td>\n",
              "    </tr>\n",
              "    <tr>\n",
              "      <th>75%</th>\n",
              "      <td>3810.750000</td>\n",
              "      <td>54231.500000</td>\n",
              "      <td>61.000000</td>\n",
              "      <td>0.000000</td>\n",
              "      <td>0.000000</td>\n",
              "      <td>113.452500</td>\n",
              "      <td>32.900000</td>\n",
              "      <td>0.000000</td>\n",
              "    </tr>\n",
              "    <tr>\n",
              "      <th>max</th>\n",
              "      <td>5109.000000</td>\n",
              "      <td>72918.000000</td>\n",
              "      <td>82.000000</td>\n",
              "      <td>1.000000</td>\n",
              "      <td>1.000000</td>\n",
              "      <td>271.740000</td>\n",
              "      <td>92.000000</td>\n",
              "      <td>1.000000</td>\n",
              "    </tr>\n",
              "  </tbody>\n",
              "</table>\n",
              "</div>"
            ],
            "text/plain": [
              "        Unnamed: 0            id  ...          bmi       stroke\n",
              "count  2310.000000   2310.000000  ...  2215.000000  2310.000000\n",
              "mean   2530.838095  35961.380519  ...    28.805418     0.052814\n",
              "std    1483.865940  21191.909528  ...     7.800871     0.223710\n",
              "min       0.000000     77.000000  ...    10.300000     0.000000\n",
              "25%    1217.250000  17007.750000  ...    23.600000     0.000000\n",
              "50%    2573.500000  36047.000000  ...    28.100000     0.000000\n",
              "75%    3810.750000  54231.500000  ...    32.900000     0.000000\n",
              "max    5109.000000  72918.000000  ...    92.000000     1.000000\n",
              "\n",
              "[8 rows x 8 columns]"
            ]
          },
          "metadata": {
            "tags": []
          },
          "execution_count": 8
        }
      ]
    },
    {
      "cell_type": "markdown",
      "metadata": {
        "id": "Qv07yz79Nkry"
      },
      "source": [
        "I will discuss this more thourougholy in the report section of this project, but I did some outside research and the features I have decided to drop are id, ever_married, and residence type.  I am going to drop these features again in the pipeline, but I want to have a second set of the same data with the features dropped to look at some basic statistices/correlations"
      ]
    },
    {
      "cell_type": "code",
      "metadata": {
        "colab": {
          "base_uri": "https://localhost:8080/",
          "height": 205
        },
        "id": "3tHMjv6bP63m",
        "outputId": "137e8178-d75c-4f37-8eb6-a4ad15e5110b"
      },
      "source": [
        "sdata2 = sdata.drop([\"Unnamed: 0\", \"id\", \"ever_married\", \"Residence_type\"],axis=1)\n",
        "sdata2.head()"
      ],
      "execution_count": null,
      "outputs": [
        {
          "output_type": "execute_result",
          "data": {
            "text/html": [
              "<div>\n",
              "<style scoped>\n",
              "    .dataframe tbody tr th:only-of-type {\n",
              "        vertical-align: middle;\n",
              "    }\n",
              "\n",
              "    .dataframe tbody tr th {\n",
              "        vertical-align: top;\n",
              "    }\n",
              "\n",
              "    .dataframe thead th {\n",
              "        text-align: right;\n",
              "    }\n",
              "</style>\n",
              "<table border=\"1\" class=\"dataframe\">\n",
              "  <thead>\n",
              "    <tr style=\"text-align: right;\">\n",
              "      <th></th>\n",
              "      <th>gender</th>\n",
              "      <th>age</th>\n",
              "      <th>hypertension</th>\n",
              "      <th>heart_disease</th>\n",
              "      <th>work_type</th>\n",
              "      <th>avg_glucose_level</th>\n",
              "      <th>bmi</th>\n",
              "      <th>smoking_status</th>\n",
              "      <th>stroke</th>\n",
              "    </tr>\n",
              "  </thead>\n",
              "  <tbody>\n",
              "    <tr>\n",
              "      <th>0</th>\n",
              "      <td>Female</td>\n",
              "      <td>24.0</td>\n",
              "      <td>0</td>\n",
              "      <td>0</td>\n",
              "      <td>Private</td>\n",
              "      <td>85.55</td>\n",
              "      <td>63.3</td>\n",
              "      <td>never smoked</td>\n",
              "      <td>0</td>\n",
              "    </tr>\n",
              "    <tr>\n",
              "      <th>1</th>\n",
              "      <td>Male</td>\n",
              "      <td>57.0</td>\n",
              "      <td>1</td>\n",
              "      <td>0</td>\n",
              "      <td>Govt_job</td>\n",
              "      <td>78.92</td>\n",
              "      <td>27.7</td>\n",
              "      <td>formerly smoked</td>\n",
              "      <td>1</td>\n",
              "    </tr>\n",
              "    <tr>\n",
              "      <th>2</th>\n",
              "      <td>Female</td>\n",
              "      <td>69.0</td>\n",
              "      <td>0</td>\n",
              "      <td>0</td>\n",
              "      <td>Private</td>\n",
              "      <td>103.73</td>\n",
              "      <td>34.7</td>\n",
              "      <td>never smoked</td>\n",
              "      <td>0</td>\n",
              "    </tr>\n",
              "    <tr>\n",
              "      <th>3</th>\n",
              "      <td>Male</td>\n",
              "      <td>60.0</td>\n",
              "      <td>0</td>\n",
              "      <td>0</td>\n",
              "      <td>Self-employed</td>\n",
              "      <td>227.23</td>\n",
              "      <td>40.0</td>\n",
              "      <td>formerly smoked</td>\n",
              "      <td>0</td>\n",
              "    </tr>\n",
              "    <tr>\n",
              "      <th>4</th>\n",
              "      <td>Female</td>\n",
              "      <td>65.0</td>\n",
              "      <td>0</td>\n",
              "      <td>0</td>\n",
              "      <td>Govt_job</td>\n",
              "      <td>82.72</td>\n",
              "      <td>29.8</td>\n",
              "      <td>smokes</td>\n",
              "      <td>0</td>\n",
              "    </tr>\n",
              "  </tbody>\n",
              "</table>\n",
              "</div>"
            ],
            "text/plain": [
              "   gender   age  hypertension  ...   bmi   smoking_status  stroke\n",
              "0  Female  24.0             0  ...  63.3     never smoked       0\n",
              "1    Male  57.0             1  ...  27.7  formerly smoked       1\n",
              "2  Female  69.0             0  ...  34.7     never smoked       0\n",
              "3    Male  60.0             0  ...  40.0  formerly smoked       0\n",
              "4  Female  65.0             0  ...  29.8           smokes       0\n",
              "\n",
              "[5 rows x 9 columns]"
            ]
          },
          "metadata": {
            "tags": []
          },
          "execution_count": 3
        }
      ]
    },
    {
      "cell_type": "markdown",
      "metadata": {
        "id": "UnoO2AiIRXt2"
      },
      "source": [
        "Let's do a quick correlation plot as we did with project 2"
      ]
    },
    {
      "cell_type": "code",
      "metadata": {
        "colab": {
          "base_uri": "https://localhost:8080/",
          "height": 704
        },
        "id": "7PCMlSbYRotY",
        "outputId": "50871574-a15b-4be4-a0d9-b04e9136ad2b"
      },
      "source": [
        "# we will set up a correlation plot but with a nicer color scheme so we can better visualize our results\n",
        "import matplotlib.transforms\n",
        "\n",
        "sns.set(style = \"ticks\")\n",
        "corr = sdata2.corr()\n",
        "f,ax = plt.subplots(figsize = (12,12))\n",
        "colorM = sns.diverging_palette(10,230,as_cmap=True)\n",
        "sns.heatmap(corr,annot=True,cmap = colorM, square=True)"
      ],
      "execution_count": null,
      "outputs": [
        {
          "output_type": "execute_result",
          "data": {
            "text/plain": [
              "<matplotlib.axes._subplots.AxesSubplot at 0x7f71b815a450>"
            ]
          },
          "metadata": {
            "tags": []
          },
          "execution_count": 21
        },
        {
          "output_type": "display_data",
          "data": {
            "image/png": "[encoded data removed]",
            "text/plain": [
              "<Figure size 864x864 with 2 Axes>"
            ]
          },
          "metadata": {
            "tags": []
          }
        }
      ]
    },
    {
      "cell_type": "markdown",
      "metadata": {
        "id": "b57M9UwZTykI"
      },
      "source": [
        "From this plot we can gain some information about what features may or may not be correlated.\n",
        "\n",
        "\n",
        "\n",
        "*   The strongest correlation is between age and BMI, which makes sense as metabolisms slow down with age thus making weight gain easier\n",
        "*   There are also notable positive correlations relating age with heart disease and hypertension.\n",
        "*   The correlation between BMI and heart disease is much lower than I expected\n",
        "\n",
        "\n",
        "\n"
      ]
    },
    {
      "cell_type": "markdown",
      "metadata": {
        "id": "70Fimr2MWhVB"
      },
      "source": [
        "One more stat I am interested in that I believe could be informative:"
      ]
    },
    {
      "cell_type": "markdown",
      "metadata": {
        "id": "pR32FFUVWxZY"
      },
      "source": [
        "BMI: Lets examine the average and distribution of the BMI values.  The USA is notoriously overweight, so I would like to see if this data is balanced.  Keep in mind, the CDC has the following BMI classifications\n",
        "\n",
        "\n",
        "1.   $<$18.5 = underweight\n",
        "2.   18.5-24.9 = normal/healthy weight\n",
        "3.   25.0-29.9 = overweight\n",
        "4.   $>$30.0 = obese\n",
        "\n",
        "\n",
        "\n"
      ]
    },
    {
      "cell_type": "code",
      "metadata": {
        "colab": {
          "base_uri": "https://localhost:8080/",
          "height": 302
        },
        "id": "J44uq7FnXtuX",
        "outputId": "6898784a-31de-4773-c602-5b5e06e4eac8"
      },
      "source": [
        "BMI = sdata2[\"bmi\"].copy()\n",
        "print(\"mean BMI:\", BMI.mean())\n",
        "print(\"median BMI:\", BMI.median())\n",
        "BMI.hist(bins=10,figsize=(5,4));"
      ],
      "execution_count": null,
      "outputs": [
        {
          "output_type": "stream",
          "text": [
            "mean BMI: 28.80541760722349\n",
            "median BMI: 28.1\n"
          ],
          "name": "stdout"
        },
        {
          "output_type": "display_data",
          "data": {
            "image/png": "[encoded data removed]",
            "text/plain": [
              "<Figure size 360x288 with 1 Axes>"
            ]
          },
          "metadata": {
            "tags": []
          }
        }
      ]
    },
    {
      "cell_type": "markdown",
      "metadata": {
        "id": "cbTMXuxeaQOL"
      },
      "source": [
        "As I (unfortunately) anticipated, it seems that the majority of people in this study are either overweight or obese.  This is important to consieder in our analysis, as data from a less overweight area may provide different results."
      ]
    },
    {
      "cell_type": "markdown",
      "metadata": {
        "id": "Yq374vLvBble"
      },
      "source": [
        "**Part 2**"
      ]
    },
    {
      "cell_type": "markdown",
      "metadata": {
        "id": "-vsYxCWLBoa0"
      },
      "source": [
        "As I mentioned above, I plan to drop id, ever_married, and residence type.  The remaining categories can be divided into categorical and numerical categories.  The categorical categories are gender, hypertension, heart disease, work type, and smoking status.  That makes the numerical categories age avg_glucose and bmi.  Let's now examine null values to see what needs to be imputed."
      ]
    },
    {
      "cell_type": "code",
      "metadata": {
        "colab": {
          "base_uri": "https://localhost:8080/",
          "height": 298
        },
        "id": "_cTxNRGiDCHa",
        "outputId": "406651fe-764c-4aea-d2c8-122dc28c4622"
      },
      "source": [
        "nulls = sdata[sdata.isnull().any(axis=1)]\n",
        "nulls.describe()"
      ],
      "execution_count": null,
      "outputs": [
        {
          "output_type": "execute_result",
          "data": {
            "text/html": [
              "<div>\n",
              "<style scoped>\n",
              "    .dataframe tbody tr th:only-of-type {\n",
              "        vertical-align: middle;\n",
              "    }\n",
              "\n",
              "    .dataframe tbody tr th {\n",
              "        vertical-align: top;\n",
              "    }\n",
              "\n",
              "    .dataframe thead th {\n",
              "        text-align: right;\n",
              "    }\n",
              "</style>\n",
              "<table border=\"1\" class=\"dataframe\">\n",
              "  <thead>\n",
              "    <tr style=\"text-align: right;\">\n",
              "      <th></th>\n",
              "      <th>Unnamed: 0</th>\n",
              "      <th>id</th>\n",
              "      <th>age</th>\n",
              "      <th>hypertension</th>\n",
              "      <th>heart_disease</th>\n",
              "      <th>avg_glucose_level</th>\n",
              "      <th>bmi</th>\n",
              "      <th>stroke</th>\n",
              "    </tr>\n",
              "  </thead>\n",
              "  <tbody>\n",
              "    <tr>\n",
              "      <th>count</th>\n",
              "      <td>95.000000</td>\n",
              "      <td>95.000000</td>\n",
              "      <td>95.000000</td>\n",
              "      <td>95.000000</td>\n",
              "      <td>95.000000</td>\n",
              "      <td>95.000000</td>\n",
              "      <td>0.0</td>\n",
              "      <td>95.000000</td>\n",
              "    </tr>\n",
              "    <tr>\n",
              "      <th>mean</th>\n",
              "      <td>1987.063158</td>\n",
              "      <td>24790.515789</td>\n",
              "      <td>53.369684</td>\n",
              "      <td>0.242105</td>\n",
              "      <td>0.157895</td>\n",
              "      <td>131.374947</td>\n",
              "      <td>NaN</td>\n",
              "      <td>0.242105</td>\n",
              "    </tr>\n",
              "    <tr>\n",
              "      <th>std</th>\n",
              "      <td>1503.073453</td>\n",
              "      <td>21901.551706</td>\n",
              "      <td>22.994452</td>\n",
              "      <td>0.430630</td>\n",
              "      <td>0.366577</td>\n",
              "      <td>59.704068</td>\n",
              "      <td>NaN</td>\n",
              "      <td>0.430630</td>\n",
              "    </tr>\n",
              "    <tr>\n",
              "      <th>min</th>\n",
              "      <td>1.000000</td>\n",
              "      <td>224.000000</td>\n",
              "      <td>0.480000</td>\n",
              "      <td>0.000000</td>\n",
              "      <td>0.000000</td>\n",
              "      <td>57.920000</td>\n",
              "      <td>NaN</td>\n",
              "      <td>0.000000</td>\n",
              "    </tr>\n",
              "    <tr>\n",
              "      <th>25%</th>\n",
              "      <td>419.500000</td>\n",
              "      <td>5729.000000</td>\n",
              "      <td>34.500000</td>\n",
              "      <td>0.000000</td>\n",
              "      <td>0.000000</td>\n",
              "      <td>79.750000</td>\n",
              "      <td>NaN</td>\n",
              "      <td>0.000000</td>\n",
              "    </tr>\n",
              "    <tr>\n",
              "      <th>50%</th>\n",
              "      <td>1866.000000</td>\n",
              "      <td>18234.000000</td>\n",
              "      <td>59.000000</td>\n",
              "      <td>0.000000</td>\n",
              "      <td>0.000000</td>\n",
              "      <td>104.450000</td>\n",
              "      <td>NaN</td>\n",
              "      <td>0.000000</td>\n",
              "    </tr>\n",
              "    <tr>\n",
              "      <th>75%</th>\n",
              "      <td>3136.500000</td>\n",
              "      <td>40143.500000</td>\n",
              "      <td>73.500000</td>\n",
              "      <td>0.000000</td>\n",
              "      <td>0.000000</td>\n",
              "      <td>196.720000</td>\n",
              "      <td>NaN</td>\n",
              "      <td>0.000000</td>\n",
              "    </tr>\n",
              "    <tr>\n",
              "      <th>max</th>\n",
              "      <td>5105.000000</td>\n",
              "      <td>70676.000000</td>\n",
              "      <td>82.000000</td>\n",
              "      <td>1.000000</td>\n",
              "      <td>1.000000</td>\n",
              "      <td>240.690000</td>\n",
              "      <td>NaN</td>\n",
              "      <td>1.000000</td>\n",
              "    </tr>\n",
              "  </tbody>\n",
              "</table>\n",
              "</div>"
            ],
            "text/plain": [
              "        Unnamed: 0            id        age  ...  avg_glucose_level  bmi     stroke\n",
              "count    95.000000     95.000000  95.000000  ...          95.000000  0.0  95.000000\n",
              "mean   1987.063158  24790.515789  53.369684  ...         131.374947  NaN   0.242105\n",
              "std    1503.073453  21901.551706  22.994452  ...          59.704068  NaN   0.430630\n",
              "min       1.000000    224.000000   0.480000  ...          57.920000  NaN   0.000000\n",
              "25%     419.500000   5729.000000  34.500000  ...          79.750000  NaN   0.000000\n",
              "50%    1866.000000  18234.000000  59.000000  ...         104.450000  NaN   0.000000\n",
              "75%    3136.500000  40143.500000  73.500000  ...         196.720000  NaN   0.000000\n",
              "max    5105.000000  70676.000000  82.000000  ...         240.690000  NaN   1.000000\n",
              "\n",
              "[8 rows x 8 columns]"
            ]
          },
          "metadata": {
            "tags": []
          },
          "execution_count": 6
        }
      ]
    },
    {
      "cell_type": "markdown",
      "metadata": {
        "id": "Bnzb_8n9GIUQ"
      },
      "source": [
        "It looks like BMI is going to be the problematice field.  Most educated people know that BMI is not a great measurement on an individual level, it doesn't account for things like increased density of incredibly muscular people.  However, at a population level BMI is a decenet indicator of general physical fitness.  Of course I would not (and no one should) attempt to predict likeliness of stroke strictly based off of BMI, but it has merit as one element of a prediction algorithm.  Now for the imputation method: here I have done some research which I will briefly summarize here and explain in more detail in the report."
      ]
    },
    {
      "cell_type": "markdown",
      "metadata": {
        "id": "AObb025WHrmZ"
      },
      "source": [
        "IJCMR Article: there is correlation between BMI and glucose levels\n",
        "https://www.ijcmr.com/uploads/7/7/4/6/77464738/ijcmr_1592.pdf\n",
        "\n",
        "NIH Article: there is significant linear correlation between BMI and blood pressure, thus hypertension suggests higher BMI\n",
        "\n",
        "https://www.ncbi.nlm.nih.gov/pmc/articles/PMC6316192/"
      ]
    },
    {
      "cell_type": "markdown",
      "metadata": {
        "id": "42nId7gRJBQl"
      },
      "source": [
        "Ok, I want to collect some stats to examine how best to impute BMI, first, I want to isolate the non-null columns and examine the ratio of bmi to average glucose levels."
      ]
    },
    {
      "cell_type": "code",
      "metadata": {
        "colab": {
          "base_uri": "https://localhost:8080/",
          "height": 528
        },
        "id": "05yobpe1KO14",
        "outputId": "2993c7de-975f-4f23-c462-624bda6f1605"
      },
      "source": [
        "nonull = sdata[sdata.notnull().any(axis=1)]\n",
        "nonull['bmiTOgl']=nonull['bmi']/nonull['avg_glucose_level']\n",
        "nonull['bmiTOgl'].hist();\n",
        "nonull.plot(x='avg_glucose_level', y='bmi', style='o');\n"
      ],
      "execution_count": null,
      "outputs": [
        {
          "output_type": "display_data",
          "data": {
            "image/png": "[encoded data removed]",
            "text/plain": [
              "<Figure size 432x288 with 1 Axes>"
            ]
          },
          "metadata": {
            "tags": [],
            "needs_background": "light"
          }
        },
        {
          "output_type": "display_data",
          "data": {
            "image/png": "[encoded data removed]",
            "text/plain": [
              "<Figure size 432x288 with 1 Axes>"
            ]
          },
          "metadata": {
            "tags": [],
            "needs_background": "light"
          }
        }
      ]
    },
    {
      "cell_type": "markdown",
      "metadata": {
        "id": "3vTcWhEwPyJS"
      },
      "source": [
        "Ok, we definitely have some correlation here, so I think this is a good strategy for imputing BMI, certainly better than just slapping the mean or median everywhere\n",
        "\n",
        "Lets start implementing this pipeline."
      ]
    },
    {
      "cell_type": "code",
      "metadata": {
        "id": "C1vt9eYfP_xE"
      },
      "source": [
        "from sklearn.compose import ColumnTransformer\n",
        "from sklearn.preprocessing import StandardScaler\n",
        "from sklearn.preprocessing import OneHotEncoder\n",
        "from sklearn import impute\n",
        "\n",
        "\n",
        "#this is temporary so I can rerun my pipeline for testing\n",
        "sdata = pd.read_csv(\"/content/drive/My Drive/dataset-stroke.csv\")\n",
        "\n",
        "#first thing we want to do is completely drop the features we don't need and remove the stroke column and save it seperately\n",
        "strokes = sdata['stroke']\n",
        "sdata = sdata.drop([\"Unnamed: 0\", \"id\", \"ever_married\", \"Residence_type\", \"stroke\"],axis=1)\n",
        "\n",
        "\n",
        "#now lets impute our missing BMI based on glucose levels\n",
        "non = sdata[sdata.notnull().any(axis=1)]\n",
        "non['bmiTOgl']=non['bmi']/non['avg_glucose_level']\n",
        "l = (non['bmiTOgl'].median())\n",
        "\n",
        "sdata['bmi']=sdata.apply(\n",
        "    lambda row: row['avg_glucose_level']*l if np.isnan(row['bmi']) else row['bmi'],\n",
        "    axis = 1\n",
        ")\n",
        "\n",
        "#alright, BMI has been imputed, now lets do a quick augmentation.  I personally don't believe that these features are great for augmentation, but Its worth a shot\n",
        "3#I will do a feature cross of age and glucose level that is simply a multiplication of the two. \n",
        "#both increased age and increased glucose level are known to cause health problems, \n",
        "#this is a numerical feature and it kind of offsets the inneffectiveness of BMI by simultaneously considering glucose levels\n",
        "\n",
        "sdata['glage'] = sdata['avg_glucose_level']*sdata['age']\n",
        "\n",
        "# i will now run my pipeline using standard scaler for the numerical data and onehotencoder for the categorical data as this seemed to work in project 2\n",
        "#first lets split numerical and categorical features\n",
        "\n",
        "sdata_removed = sdata.drop([\"gender\", \"hypertension\", \"heart_disease\", \"work_type\", \"smoking_status\"],axis=1)\n",
        "nums = list(sdata_removed)\n",
        "cats = [\"gender\", \"hypertension\", \"heart_disease\", \"work_type\", \"smoking_status\"]\n",
        "\n",
        "full_pipeline = ColumnTransformer([\n",
        "         (\"num\", StandardScaler(), nums),\n",
        "         (\"cat\", OneHotEncoder(sparse=False), cats)                          \n",
        "])\n",
        "\n",
        "pdata = full_pipeline.fit_transform(sdata)\n",
        "\n",
        "\n",
        "\n",
        "\n"
      ],
      "execution_count": null,
      "outputs": []
    },
    {
      "cell_type": "markdown",
      "metadata": {
        "id": "nyhlzVb-TdWs"
      },
      "source": [
        "**Note**\n",
        "\n",
        "This data is NOT well balanced, there are far more stroke havers than non stroke havers, thus we will run some models on the data and then leverage ensembling, I don't think over/under sampling is a good idea here nescessarily.  I expect these initial models to perform poorly until ensembling has occurred"
      ]
    },
    {
      "cell_type": "code",
      "metadata": {
        "id": "t2jvB2WETgmz"
      },
      "source": [
        "from sklearn.model_selection import train_test_split\n",
        "\n",
        "#first things first: we will split the data into test and train sections\n",
        "xtrain, xtest, ytrain, ytest = train_test_split(pdata, strokes, test_size = 0.25, random_state = 44)\n"
      ],
      "execution_count": null,
      "outputs": []
    },
    {
      "cell_type": "markdown",
      "metadata": {
        "id": "7sycYwPlS4kO"
      },
      "source": [
        "**Logistic**\n",
        "\n"
      ]
    },
    {
      "cell_type": "code",
      "metadata": {
        "id": "_VD6jzJYS7m2"
      },
      "source": [
        "from sklearn.linear_model import LogisticRegression\n",
        "\n",
        "ryur = LogisticRegression(random_state = 55)\n",
        "\n",
        "ryur.fit(xtrain,ytrain)\n",
        "logistic_predictions = ryur.predict(xtest)\n"
      ],
      "execution_count": null,
      "outputs": []
    },
    {
      "cell_type": "markdown",
      "metadata": {
        "id": "1vh3-0_f3Ooh"
      },
      "source": [
        "now lets take a look at our results:"
      ]
    },
    {
      "cell_type": "code",
      "metadata": {
        "colab": {
          "base_uri": "https://localhost:8080/",
          "height": 366
        },
        "id": "Yy7QhDqW3Qoe",
        "outputId": "b61d6d68-8b07-4841-9f00-20a429c2c790"
      },
      "source": [
        "print(\"The accuracy of this model is: \", metrics.accuracy_score(ytest,logistic_predictions))\n",
        "print(\"The precision of this model is: \", metrics.precision_score(ytest,logistic_predictions))\n",
        "print(\"The recall of this model is: \", metrics.recall_score(ytest,logistic_predictions))\n",
        "print(\"The F1 score of this model is: \", metrics.f1_score(ytest,logistic_predictions))\n",
        "draw_confusion_matrix(ytest, logistic_predictions, [\"No Stroke\", \"Stroke\"])"
      ],
      "execution_count": null,
      "outputs": [
        {
          "output_type": "stream",
          "text": [
            "The accuracy of this model is:  0.9463667820069204\n",
            "The precision of this model is:  0.6666666666666666\n",
            "The recall of this model is:  0.0625\n",
            "The F1 score of this model is:  0.11428571428571428\n"
          ],
          "name": "stdout"
        },
        {
          "output_type": "display_data",
          "data": {
            "image/png": "[encoded data removed]",
            "text/plain": [
              "<Figure size 432x288 with 2 Axes>"
            ]
          },
          "metadata": {
            "tags": [],
            "needs_background": "light"
          }
        }
      ]
    },
    {
      "cell_type": "markdown",
      "metadata": {
        "id": "wgLqwTRn4I45"
      },
      "source": [
        "Alright, as expected its highly accurate but has bad marks for precision, recall, and F1.  We will likely have to ensemble before we get better results, it looks like the model is just classifying almost everything as a stroke from the lack of balance."
      ]
    },
    {
      "cell_type": "markdown",
      "metadata": {
        "id": "P52F5Eo75zoR"
      },
      "source": [
        "Let's employ PCA to reduce the complexity of our data frame."
      ]
    },
    {
      "cell_type": "code",
      "metadata": {
        "colab": {
          "base_uri": "https://localhost:8080/"
        },
        "id": "vF1UhWqz54Nw",
        "outputId": "9e495678-aaad-4dec-c2ab-cafbd3e8a221"
      },
      "source": [
        "from sklearn.decomposition import PCA\n",
        "\n",
        "pca1 = PCA()\n",
        "\n",
        "pdata_pca=pdata\n",
        "\n",
        "pca1.fit(pdata_pca)\n",
        "\n",
        "print(pca1.explained_variance_ratio_)\n",
        "print(pca1.singular_values_)\n",
        "pdata_pca = pca1.fit_transform(pdata_pca)\n",
        "\n"
      ],
      "execution_count": null,
      "outputs": [
        {
          "output_type": "stream",
          "text": [
            "[4.10988316e-01 1.47130906e-01 1.25348462e-01 7.88698330e-02\n",
            " 5.58575237e-02 4.68635212e-02 3.03145681e-02 2.60974443e-02\n",
            " 2.54901472e-02 2.24533340e-02 1.51147466e-02 9.64775822e-03\n",
            " 4.78088558e-03 1.04255336e-03 4.73210246e-33 1.52527782e-33\n",
            " 1.24243677e-33 4.52470498e-34 5.84310580e-37]\n",
            "[7.60574449e+01 4.55070778e+01 4.20035985e+01 3.33182708e+01\n",
            " 2.80393430e+01 2.56829231e+01 2.06563073e+01 1.91657572e+01\n",
            " 1.89414475e+01 1.77773659e+01 1.45857051e+01 1.16530658e+01\n",
            " 8.20315974e+00 3.83068233e+00 8.16120080e-15 4.63341789e-15\n",
            " 4.18180850e-15 2.52360935e-15 9.06878005e-17]\n"
          ],
          "name": "stdout"
        }
      ]
    },
    {
      "cell_type": "markdown",
      "metadata": {
        "id": "qSt50cWJ76SE"
      },
      "source": [
        "Here we have printed our variance ratios and our singular values.  We will super quickly rerun our logistic regression to see how this behaves:"
      ]
    },
    {
      "cell_type": "code",
      "metadata": {
        "colab": {
          "base_uri": "https://localhost:8080/",
          "height": 366
        },
        "id": "oLd5Mo_-8cJQ",
        "outputId": "613c9ff3-babd-4dbb-8f26-6c6cd311a7eb"
      },
      "source": [
        "xtrainp, xtestp, ytrainp, ytestp = train_test_split(pdata_pca, strokes, test_size = 0.25, random_state = 44)\n",
        "\n",
        "ryur2 = LogisticRegression(random_state = 55)\n",
        "\n",
        "ryur2.fit(xtrainp,ytrainp)\n",
        "logistic_predictions = ryur.predict(xtestp)\n",
        "print(\"The accuracy of this model is: \", metrics.accuracy_score(ytestp,logistic_predictions))\n",
        "print(\"The precision of this model is: \", metrics.precision_score(ytestp,logistic_predictions))\n",
        "print(\"The recall of this model is: \", metrics.recall_score(ytestp,logistic_predictions))\n",
        "print(\"The F1 score of this model is: \", metrics.f1_score(ytestp,logistic_predictions))\n",
        "\n",
        "draw_confusion_matrix(ytestp, logistic_predictions, [\"No Stroke\", \"Stroke\"])"
      ],
      "execution_count": null,
      "outputs": [
        {
          "output_type": "stream",
          "text": [
            "The accuracy of this model is:  0.8806228373702422\n",
            "The precision of this model is:  0.2153846153846154\n",
            "The recall of this model is:  0.4375\n",
            "The F1 score of this model is:  0.28865979381443296\n"
          ],
          "name": "stdout"
        },
        {
          "output_type": "display_data",
          "data": {
            "image/png": "[encoded data removed]",
            "text/plain": [
              "<Figure size 432x288 with 2 Axes>"
            ]
          },
          "metadata": {
            "tags": [],
            "needs_background": "light"
          }
        }
      ]
    },
    {
      "cell_type": "markdown",
      "metadata": {
        "id": "3djiCoSB8840"
      },
      "source": [
        "Accuracy and precision are decreased, but recall and F1 are increased which suggests to me that this data actually performs better.  Beforehand it was classifying everything as non-stroke due to the lack of balance, but this seems to do a little bit better."
      ]
    },
    {
      "cell_type": "markdown",
      "metadata": {
        "id": "O6h0aLLw9HXo"
      },
      "source": [
        "We will now do some bagging, and check the bagging results with a couple of different classifier methods, first we will use logistic regression again"
      ]
    },
    {
      "cell_type": "code",
      "metadata": {
        "colab": {
          "base_uri": "https://localhost:8080/",
          "height": 366
        },
        "id": "npW1wJP7UH2m",
        "outputId": "3a2f2cf4-08ca-40ae-ba20-3c1294b3a5c3"
      },
      "source": [
        "#as I mentioned above, we will be using ensembling to help with our imbalnced data set\n",
        "from imblearn.ensemble import BalancedBaggingClassifier \n",
        "bbc1 = BalancedBaggingClassifier(base_estimator=LogisticRegression(),\n",
        "                                 sampling_strategy='auto',\n",
        "                                 replacement = False,\n",
        "                                 random_state=5)\n",
        "\n",
        "bbc1.fit(xtrainp,ytrainp)\n",
        "preds1=bbc1.predict(xtestp);\n",
        "\n",
        "\n",
        "draw_confusion_matrix(ytestp, preds1, [\"No Stroke\", \"Stroke\"])\n",
        "\n",
        "print(\"The accuracy of this model is: \", metrics.accuracy_score(ytestp,preds1))\n",
        "print(\"The precision of this model is: \", metrics.precision_score(ytestp,preds1))\n",
        "print(\"The recall of this model is: \", metrics.recall_score(ytestp,preds1))\n",
        "print(\"The F1 score of this model is: \", metrics.f1_score(ytestp,preds1))"
      ],
      "execution_count": null,
      "outputs": [
        {
          "output_type": "display_data",
          "data": {
            "image/png": "[encoded data removed]",
            "text/plain": [
              "<Figure size 432x288 with 2 Axes>"
            ]
          },
          "metadata": {
            "tags": [],
            "needs_background": "light"
          }
        },
        {
          "output_type": "stream",
          "text": [
            "The accuracy of this model is:  0.7352941176470589\n",
            "The precision of this model is:  0.15028901734104047\n",
            "The recall of this model is:  0.8125\n",
            "The F1 score of this model is:  0.25365853658536586\n"
          ],
          "name": "stdout"
        }
      ]
    },
    {
      "cell_type": "markdown",
      "metadata": {
        "id": "_689eKttBI7A"
      },
      "source": [
        "This model is in my opinion the best so far.  I want to minimize false negatives.  In my opinion its much better to have someone think they may have a stroke and thus possibly improve their health or consult their doctor about preventative measures than it is to mislead someone who is at risk of stroke.  Ideally one could avoid either, but I think this is progress."
      ]
    },
    {
      "cell_type": "markdown",
      "metadata": {
        "id": "53l2_pN1BZRs"
      },
      "source": [
        "I am now going to try the same bagging method with some different classifiers."
      ]
    },
    {
      "cell_type": "code",
      "metadata": {
        "colab": {
          "base_uri": "https://localhost:8080/",
          "height": 366
        },
        "id": "l81UAEd1BdW1",
        "outputId": "a6522416-433a-400c-a607-12e8d15de6ef"
      },
      "source": [
        "from sklearn.neighbors import KNeighborsClassifier\n",
        "bbc2 = BalancedBaggingClassifier(base_estimator=KNeighborsClassifier(),\n",
        "                                 sampling_strategy='auto',\n",
        "                                 replacement = False,\n",
        "                                 random_state=5)\n",
        "\n",
        "bbc2.fit(xtrainp,ytrainp)\n",
        "preds2=bbc2.predict(xtestp);\n",
        "\n",
        "\n",
        "draw_confusion_matrix(ytestp, preds2, [\"No Stroke\", \"Stroke\"])\n",
        "\n",
        "print(\"The accuracy of this model is: \", metrics.accuracy_score(ytestp,preds2))\n",
        "print(\"The precision of this model is: \", metrics.precision_score(ytestp,preds2))\n",
        "print(\"The recall of this model is: \", metrics.recall_score(ytestp,preds2))\n",
        "print(\"The F1 score of this model is: \", metrics.f1_score(ytestp,preds2))"
      ],
      "execution_count": null,
      "outputs": [
        {
          "output_type": "display_data",
          "data": {
            "image/png": "[encoded data removed]",
            "text/plain": [
              "<Figure size 432x288 with 2 Axes>"
            ]
          },
          "metadata": {
            "tags": [],
            "needs_background": "light"
          }
        },
        {
          "output_type": "stream",
          "text": [
            "The accuracy of this model is:  0.7335640138408305\n",
            "The precision of this model is:  0.14534883720930233\n",
            "The recall of this model is:  0.78125\n",
            "The F1 score of this model is:  0.2450980392156863\n"
          ],
          "name": "stdout"
        }
      ]
    },
    {
      "cell_type": "code",
      "metadata": {
        "colab": {
          "base_uri": "https://localhost:8080/",
          "height": 366
        },
        "id": "58JW8QacCBV7",
        "outputId": "4726d0a5-df91-46e0-840a-e693b9cacaac"
      },
      "source": [
        "from sklearn import svm\n",
        "bbc3 = BalancedBaggingClassifier(base_estimator=svm.SVC(kernel='linear'),\n",
        "                                 sampling_strategy='auto',\n",
        "                                 replacement = False,\n",
        "                                 random_state=5)\n",
        "\n",
        "bbc3.fit(xtrainp,ytrainp)\n",
        "preds3=bbc3.predict(xtestp);\n",
        "\n",
        "\n",
        "draw_confusion_matrix(ytestp, preds3, [\"No Stroke\", \"Stroke\"])\n",
        "\n",
        "print(\"The accuracy of this model is: \", metrics.accuracy_score(ytestp,preds3))\n",
        "print(\"The precision of this model is: \", metrics.precision_score(ytestp,preds3))\n",
        "print(\"The recall of this model is: \", metrics.recall_score(ytestp,preds3))\n",
        "print(\"The F1 score of this model is: \", metrics.f1_score(ytestp,preds3))"
      ],
      "execution_count": null,
      "outputs": [
        {
          "output_type": "display_data",
          "data": {
            "image/png": "[encoded data removed]",
            "text/plain": [
              "<Figure size 432x288 with 2 Axes>"
            ]
          },
          "metadata": {
            "tags": [],
            "needs_background": "light"
          }
        },
        {
          "output_type": "stream",
          "text": [
            "The accuracy of this model is:  0.7197231833910035\n",
            "The precision of this model is:  0.14285714285714285\n",
            "The recall of this model is:  0.8125\n",
            "The F1 score of this model is:  0.24299065420560748\n"
          ],
          "name": "stdout"
        }
      ]
    },
    {
      "cell_type": "code",
      "metadata": {
        "colab": {
          "base_uri": "https://localhost:8080/",
          "height": 366
        },
        "id": "O-uiSb4SCk4G",
        "outputId": "b58f45c5-abf6-4776-9a87-ad167544169e"
      },
      "source": [
        "from sklearn import svm\n",
        "bbc4 = BalancedBaggingClassifier(base_estimator=svm.SVC(kernel='rbf'),\n",
        "                                 sampling_strategy='auto',\n",
        "                                 replacement = False,\n",
        "                                 random_state=5)\n",
        "\n",
        "bbc4.fit(xtrainp,ytrainp)\n",
        "preds4=bbc4.predict(xtestp);\n",
        "\n",
        "\n",
        "draw_confusion_matrix(ytestp, preds4, [\"No Stroke\", \"Stroke\"])\n",
        "\n",
        "print(\"The accuracy of this model is: \", metrics.accuracy_score(ytestp,preds4))\n",
        "print(\"The precision of this model is: \", metrics.precision_score(ytestp,preds4))\n",
        "print(\"The recall of this model is: \", metrics.recall_score(ytestp,preds4))\n",
        "print(\"The F1 score of this model is: \", metrics.f1_score(ytestp,preds4))"
      ],
      "execution_count": null,
      "outputs": [
        {
          "output_type": "display_data",
          "data": {
            "image/png": "[encoded data removed]",
            "text/plain": [
              "<Figure size 432x288 with 2 Axes>"
            ]
          },
          "metadata": {
            "tags": [],
            "needs_background": "light"
          }
        },
        {
          "output_type": "stream",
          "text": [
            "The accuracy of this model is:  0.7301038062283737\n",
            "The precision of this model is:  0.14772727272727273\n",
            "The recall of this model is:  0.8125\n",
            "The F1 score of this model is:  0.25000000000000006\n"
          ],
          "name": "stdout"
        }
      ]
    },
    {
      "cell_type": "code",
      "metadata": {
        "colab": {
          "base_uri": "https://localhost:8080/",
          "height": 366
        },
        "id": "nM1RtOqRCqyW",
        "outputId": "53e5c407-75a0-47e7-a68a-6a90d67b2e0c"
      },
      "source": [
        "from sklearn.tree import DecisionTreeClassifier\n",
        "bbc5 = BalancedBaggingClassifier(base_estimator=DecisionTreeClassifier(),\n",
        "                                 sampling_strategy='auto',\n",
        "                                 replacement = False,\n",
        "                                 random_state=5)\n",
        "\n",
        "bbc5.fit(xtrainp,ytrainp)\n",
        "preds5=bbc5.predict(xtestp);\n",
        "\n",
        "\n",
        "draw_confusion_matrix(ytestp, preds5, [\"No Stroke\", \"Stroke\"])\n",
        "\n",
        "print(\"The accuracy of this model is: \", metrics.accuracy_score(ytestp,preds5))\n",
        "print(\"The precision of this model is: \", metrics.precision_score(ytestp,preds5))\n",
        "print(\"The recall of this model is: \", metrics.recall_score(ytestp,preds5))\n",
        "print(\"The F1 score of this model is: \", metrics.f1_score(ytestp,preds5))"
      ],
      "execution_count": null,
      "outputs": [
        {
          "output_type": "display_data",
          "data": {
            "image/png": "[encoded data removed]",
            "text/plain": [
              "<Figure size 432x288 with 2 Axes>"
            ]
          },
          "metadata": {
            "tags": [],
            "needs_background": "light"
          }
        },
        {
          "output_type": "stream",
          "text": [
            "The accuracy of this model is:  0.7854671280276817\n",
            "The precision of this model is:  0.1349206349206349\n",
            "The recall of this model is:  0.53125\n",
            "The F1 score of this model is:  0.21518987341772153\n"
          ],
          "name": "stdout"
        }
      ]
    },
    {
      "cell_type": "code",
      "metadata": {
        "colab": {
          "base_uri": "https://localhost:8080/",
          "height": 366
        },
        "id": "CQxAF78YHDT2",
        "outputId": "00b65a18-50b9-4bfb-a256-979e0e465ea4"
      },
      "source": [
        "from sklearn.naive_bayes import GaussianNB\n",
        "bbc6 = BalancedBaggingClassifier(base_estimator=GaussianNB(),\n",
        "                                 sampling_strategy='auto',\n",
        "                                 replacement = False,\n",
        "                                 random_state=5)\n",
        "\n",
        "bbc6.fit(xtrainp,ytrainp)\n",
        "preds6=bbc6.predict(xtestp);\n",
        "\n",
        "\n",
        "draw_confusion_matrix(ytestp, preds6, [\"No Stroke\", \"Stroke\"])\n",
        "\n",
        "print(\"The accuracy of this model is: \", metrics.accuracy_score(ytestp,preds6))\n",
        "print(\"The precision of this model is: \", metrics.precision_score(ytestp,preds6))\n",
        "print(\"The recall of this model is: \", metrics.recall_score(ytestp,preds6))\n",
        "print(\"The F1 score of this model is: \", metrics.f1_score(ytestp,preds6))"
      ],
      "execution_count": null,
      "outputs": [
        {
          "output_type": "display_data",
          "data": {
            "image/png": "[encoded data removed]",
            "text/plain": [
              "<Figure size 432x288 with 2 Axes>"
            ]
          },
          "metadata": {
            "tags": [],
            "needs_background": "light"
          }
        },
        {
          "output_type": "stream",
          "text": [
            "The accuracy of this model is:  0.7370242214532872\n",
            "The precision of this model is:  0.1511627906976744\n",
            "The recall of this model is:  0.8125\n",
            "The F1 score of this model is:  0.2549019607843137\n"
          ],
          "name": "stdout"
        }
      ]
    },
    {
      "cell_type": "markdown",
      "metadata": {
        "id": "RrLw-3OTDIEo"
      },
      "source": [
        "Fitting a bunch of models gives a bunch of results with the same idea: solid accuracy, not as solid everything else.  It looks like false positives or false negatives may be unavoidable, and as I said before if I have to pick I'll take false positives.  Before doing some cross validation, we'll run a neural net classifier and see what happens.  "
      ]
    },
    {
      "cell_type": "code",
      "metadata": {
        "colab": {
          "base_uri": "https://localhost:8080/",
          "height": 366
        },
        "id": "DoUIrs0zETBY",
        "outputId": "8f72ca37-0a4c-43f3-99c8-6a05122e7ffe"
      },
      "source": [
        "#multi-layer perceptron\n",
        "from sklearn.neural_network import MLPClassifier\n",
        "\n",
        "bbc7 = BalancedBaggingClassifier(base_estimator=MLPClassifier(solver='lbfgs'),\n",
        "                                 sampling_strategy='auto',\n",
        "                                 replacement = False,\n",
        "                                 random_state=5)\n",
        "\n",
        "bbc7.fit(xtrainp,ytrainp)\n",
        "preds7=bbc7.predict(xtestp);\n",
        "\n",
        "\n",
        "draw_confusion_matrix(ytestp, preds7, [\"No Stroke\", \"Stroke\"])\n",
        "\n",
        "print(\"The accuracy of this model is: \", metrics.accuracy_score(ytestp,preds7))\n",
        "print(\"The precision of this model is: \", metrics.precision_score(ytestp,preds7))\n",
        "print(\"The recall of this model is: \", metrics.recall_score(ytestp,preds7))\n",
        "print(\"The F1 score of this model is: \", metrics.f1_score(ytestp,preds7))\n",
        "\n"
      ],
      "execution_count": null,
      "outputs": [
        {
          "output_type": "display_data",
          "data": {
            "image/png": "[encoded data removed]",
            "text/plain": [
              "<Figure size 432x288 with 2 Axes>"
            ]
          },
          "metadata": {
            "tags": [],
            "needs_background": "light"
          }
        },
        {
          "output_type": "stream",
          "text": [
            "The accuracy of this model is:  0.7785467128027682\n",
            "The precision of this model is:  0.15714285714285714\n",
            "The recall of this model is:  0.6875\n",
            "The F1 score of this model is:  0.2558139534883721\n"
          ],
          "name": "stdout"
        }
      ]
    },
    {
      "cell_type": "markdown",
      "metadata": {
        "id": "LHcgee4wGqji"
      },
      "source": [
        "At this point we have run a bunch of different models, so lets do some comparisons and see what we like the most."
      ]
    },
    {
      "cell_type": "code",
      "metadata": {
        "id": "d1X4d4sPHOth"
      },
      "source": [
        "from sklearn.model_selection import KFold\n",
        "from sklearn.model_selection import cross_val_score\n",
        "\n",
        "kf = KFold(n_splits = 10)\n",
        "#I will run the cross validation on models that I liked (I am going to try to pick those that optimize recall)\n",
        "\n",
        "result1 = cross_val_score(bbc1,pdata_pca,strokes,cv=kf)\n",
        "result2 = cross_val_score(bbc2,pdata_pca,strokes,cv=kf)\n",
        "result3 = cross_val_score(bbc3,pdata_pca,strokes,cv=kf)\n",
        "result4 = cross_val_score(bbc4,pdata_pca,strokes,cv=kf)\n",
        "result6 = cross_val_score(bbc6,pdata_pca,strokes,cv=kf)\n"
      ],
      "execution_count": null,
      "outputs": []
    },
    {
      "cell_type": "code",
      "metadata": {
        "colab": {
          "base_uri": "https://localhost:8080/"
        },
        "id": "wFBfeJk3JBkE",
        "outputId": "ed761af3-80cb-45a6-d3d9-1102a39eadef"
      },
      "source": [
        "print(result1.mean())\n",
        "print(result2.mean())\n",
        "print(result3.mean())\n",
        "print(result4.mean())\n",
        "print(result6.mean())"
      ],
      "execution_count": null,
      "outputs": [
        {
          "output_type": "stream",
          "text": [
            "0.7523809523809525\n",
            "0.7502164502164502\n",
            "0.7476190476190475\n",
            "0.7536796536796537\n",
            "0.6926406926406926\n"
          ],
          "name": "stdout"
        }
      ]
    },
    {
      "cell_type": "markdown",
      "metadata": {
        "id": "XEgZtYvfJN5H"
      },
      "source": [
        "These results are actually not too bad, my best result seems to be the SVM with radial bias function.  We will try to tweek a couple parameters and see if we can get it even a little better."
      ]
    },
    {
      "cell_type": "code",
      "metadata": {
        "colab": {
          "base_uri": "https://localhost:8080/",
          "height": 366
        },
        "id": "ydJC3NdSUBfB",
        "outputId": "f906f9f2-097f-4d88-da53-9921ea87ae83"
      },
      "source": [
        "#we're going to tweek the following parameters:\n",
        "#we will have an automatic weight balance applied to our predictors\n",
        "#we will bootstrap our feature selection\n",
        "#we will decrease the escape tolerance in our svm\n",
        "\n",
        "\n",
        "\n",
        "\n",
        "bbcf = BalancedBaggingClassifier(base_estimator=svm.SVC(kernel='rbf', degree=5, class_weight='balanced', tol=1e-10),\n",
        "                                 sampling_strategy='auto',\n",
        "                                 replacement = False,\n",
        "                                 bootstrap_features = True,\n",
        "                                 random_state=5)\n",
        "\n",
        "bbcf.fit(xtrainp,ytrainp)\n",
        "predsf=bbcf.predict(xtestp);\n",
        "\n",
        "\n",
        "draw_confusion_matrix(ytestp, predsf, [\"No Stroke\", \"Stroke\"])\n",
        "\n",
        "print(\"The accuracy of this model is: \", metrics.accuracy_score(ytestp,predsf))\n",
        "print(\"The precision of this model is: \", metrics.precision_score(ytestp,predsf))\n",
        "print(\"The recall of this model is: \", metrics.recall_score(ytestp,predsf))\n",
        "print(\"The F1 score of this model is: \", metrics.f1_score(ytestp,predsf))"
      ],
      "execution_count": null,
      "outputs": [
        {
          "output_type": "display_data",
          "data": {
            "image/png": "[encoded data removed]",
            "text/plain": [
              "<Figure size 432x288 with 2 Axes>"
            ]
          },
          "metadata": {
            "tags": [],
            "needs_background": "light"
          }
        },
        {
          "output_type": "stream",
          "text": [
            "The accuracy of this model is:  0.754325259515571\n",
            "The precision of this model is:  0.16049382716049382\n",
            "The recall of this model is:  0.8125\n",
            "The F1 score of this model is:  0.26804123711340205\n"
          ],
          "name": "stdout"
        }
      ]
    },
    {
      "cell_type": "code",
      "metadata": {
        "colab": {
          "base_uri": "https://localhost:8080/"
        },
        "id": "GMgs28opYQSd",
        "outputId": "dc6cbf06-4278-4df8-f5e6-f7e54afea7e9"
      },
      "source": [
        "best_result = cross_val_score(bbcf,pdata_pca,strokes,cv=kf)\n",
        "print(best_result.mean())"
      ],
      "execution_count": null,
      "outputs": [
        {
          "output_type": "stream",
          "text": [
            "0.7588744588744588\n"
          ],
          "name": "stdout"
        }
      ]
    }
  ]
}